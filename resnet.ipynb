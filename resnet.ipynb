{
 "cells": [
  {
   "cell_type": "code",
   "execution_count": 0,
   "metadata": {
    "colab": {
     "autoexec": {
      "startup": false,
      "wait_interval": 0
     }
    },
    "colab_type": "code",
    "id": "__XQdV1OSunG"
   },
   "outputs": [],
   "source": [
    "import numpy as np\n",
    "from keras.layers import Dense, Dropout\n",
    "from keras.layers import GlobalAveragePooling2D\n",
    "from keras.models import Model,model_from_json\n",
    "from keras.applications.resnet50 import ResNet50\n",
    "from keras.preprocessing.image import ImageDataGenerator\n",
    "import matplotlib.pyplot as plt\n",
    "import keras\n"
   ]
  },
  {
   "cell_type": "code",
   "execution_count": 0,
   "metadata": {
    "colab": {
     "autoexec": {
      "startup": false,
      "wait_interval": 0
     }
    },
    "colab_type": "code",
    "id": "AaLci7IAS6Ng"
   },
   "outputs": [],
   "source": [
    "np.random.seed(3)\n",
    "class LossHistory(keras.callbacks.Callback):\n",
    "    def on_train_begin(self, logs={}):\n",
    "        self.losses = []\n",
    "\n",
    "    def on_batch_end(self, batch, logs={}):\n",
    "        k = len(self.losses)\n",
    "        if(k!=0):\n",
    "            self.losses.append((logs.get('loss')+self.losses[k-1]*k)/(k+1))\n",
    "        else:\n",
    "            self.losses.append(logs.get('loss'))\n",
    "\n",
    "\n",
    "DATA_DIR = \"/content/drive/DL/small\""
   ]
  },
  {
   "cell_type": "code",
   "execution_count": 7,
   "metadata": {
    "colab": {
     "autoexec": {
      "startup": false,
      "wait_interval": 0
     },
     "base_uri": "https://localhost:8080/",
     "height": 34,
     "output_extras": [
      {
       "item_id": 1
      }
     ]
    },
    "colab_type": "code",
    "executionInfo": {
     "elapsed": 67818,
     "status": "ok",
     "timestamp": 1521813485904,
     "user": {
      "displayName": "deep learning",
      "photoUrl": "https://lh3.googleusercontent.com/a/default-user=s128",
      "userId": "113755938571436510854"
     },
     "user_tz": -330
    },
    "id": "W79ETereTLZJ",
    "outputId": "57df3501-14ca-43d1-f4a1-f83714af1c02"
   },
   "outputs": [
    {
     "name": "stdout",
     "output_type": "stream",
     "text": [
      "Found 14387 images belonging to 7 classes.\n"
     ]
    }
   ],
   "source": [
    "train_datagen = ImageDataGenerator().flow_from_directory(directory=DATA_DIR+\"//\"+\"train\",target_size=(224,224),color_mode='rgb',\n",
    "                                                         classes=[\"AK\",\"FR\",\"Noise\",\"SGV\", \"SK\",\"SM\", \"SP\"],class_mode=\"categorical\", batch_size=32)"
   ]
  },
  {
   "cell_type": "code",
   "execution_count": 8,
   "metadata": {
    "colab": {
     "autoexec": {
      "startup": false,
      "wait_interval": 0
     },
     "base_uri": "https://localhost:8080/",
     "height": 51,
     "output_extras": [
      {
       "item_id": 2
      }
     ]
    },
    "colab_type": "code",
    "executionInfo": {
     "elapsed": 16208,
     "status": "ok",
     "timestamp": 1521813502161,
     "user": {
      "displayName": "deep learning",
      "photoUrl": "https://lh3.googleusercontent.com/a/default-user=s128",
      "userId": "113755938571436510854"
     },
     "user_tz": -330
    },
    "id": "Wkzq90_oTX3-",
    "outputId": "ff304799-e118-4cd8-a3e4-f0a4b4d5c4cd"
   },
   "outputs": [
    {
     "name": "stdout",
     "output_type": "stream",
     "text": [
      "Found 1780 images belonging to 7 classes.\n",
      "Found 1811 images belonging to 7 classes.\n"
     ]
    }
   ],
   "source": [
    "val_datagen = ImageDataGenerator().flow_from_directory(directory=DATA_DIR+\"//\"+\"val\",target_size=(224,224),color_mode='rgb',\n",
    "                                                       classes=[\"AK\",\"FR\",\"Noise\",\"SGV\", \"SK\",\"SM\", \"SP\"], class_mode=\"categorical\",batch_size=32)\n",
    "test_datagen = ImageDataGenerator().flow_from_directory(directory=DATA_DIR+\"//\"+\"test\",target_size=(224,224),color_mode='rgb',\n",
    "                                                        classes=[\"AK\",\"FR\",\"Noise\",\"SGV\", \"SK\",\"SM\", \"SP\"], class_mode=\"categorical\",batch_size=32)"
   ]
  },
  {
   "cell_type": "code",
   "execution_count": 9,
   "metadata": {
    "colab": {
     "autoexec": {
      "startup": false,
      "wait_interval": 0
     },
     "base_uri": "https://localhost:8080/",
     "height": 51,
     "output_extras": [
      {
       "item_id": 3
      }
     ]
    },
    "colab_type": "code",
    "executionInfo": {
     "elapsed": 10015,
     "status": "ok",
     "timestamp": 1521813512217,
     "user": {
      "displayName": "deep learning",
      "photoUrl": "https://lh3.googleusercontent.com/a/default-user=s128",
      "userId": "113755938571436510854"
     },
     "user_tz": -330
    },
    "id": "PXYQ_uB5TxB_",
    "outputId": "d850c284-b8e1-44d8-f548-73648c718a1a"
   },
   "outputs": [
    {
     "name": "stdout",
     "output_type": "stream",
     "text": [
      "Downloading data from https://github.com/fchollet/deep-learning-models/releases/download/v0.2/resnet50_weights_tf_dim_ordering_tf_kernels_notop.h5\n",
      "94658560/94653016 [==============================] - 1s 0us/step\n"
     ]
    }
   ],
   "source": [
    "base_model = ResNet50(weights='imagenet', include_top=False)\n",
    "x = base_model.output\n",
    "x = GlobalAveragePooling2D()(x)\n",
    "# let's add a fully-connected layer\n",
    "x = Dense(100, activation='relu')(x)\n",
    "x = Dropout(0.5)(x)\n",
    "\n",
    "predictions = Dense(7, activation='softmax')(x)\n",
    "\n",
    "# this is the model we will train\n",
    "model = Model(inputs=base_model.input, outputs=predictions)\n"
   ]
  },
  {
   "cell_type": "code",
   "execution_count": 10,
   "metadata": {
    "colab": {
     "autoexec": {
      "startup": false,
      "wait_interval": 0
     },
     "base_uri": "https://localhost:8080/",
     "height": 34,
     "output_extras": [
      {
       "item_id": 1
      }
     ]
    },
    "colab_type": "code",
    "executionInfo": {
     "elapsed": 1040,
     "status": "ok",
     "timestamp": 1521813513294,
     "user": {
      "displayName": "deep learning",
      "photoUrl": "https://lh3.googleusercontent.com/a/default-user=s128",
      "userId": "113755938571436510854"
     },
     "user_tz": -330
    },
    "id": "ynRqJoqooXgL",
    "outputId": "d8841c24-1438-4f78-fdaf-43297bb60e32"
   },
   "outputs": [
    {
     "name": "stdout",
     "output_type": "stream",
     "text": [
      "Found GPU at: /device:GPU:0\n"
     ]
    }
   ],
   "source": [
    "import tensorflow as tf\n",
    "device_name = tf.test.gpu_device_name()\n",
    "if device_name != '/device:GPU:0':\n",
    "  raise SystemError('GPU device not found')\n",
    "print('Found GPU at: {}'.format(device_name))"
   ]
  },
  {
   "cell_type": "code",
   "execution_count": 11,
   "metadata": {
    "colab": {
     "autoexec": {
      "startup": false,
      "wait_interval": 0
     },
     "base_uri": "https://localhost:8080/",
     "height": 207,
     "output_extras": [
      {
       "item_id": 708
      },
      {
       "item_id": 1291
      },
      {
       "item_id": 1791
      },
      {
       "item_id": 2235
      }
     ]
    },
    "colab_type": "code",
    "executionInfo": {
     "elapsed": 8973548,
     "status": "ok",
     "timestamp": 1521822486916,
     "user": {
      "displayName": "deep learning",
      "photoUrl": "https://lh3.googleusercontent.com/a/default-user=s128",
      "userId": "113755938571436510854"
     },
     "user_tz": -330
    },
    "id": "vqTXJ0L_UHuR",
    "outputId": "746ff2dd-bcf5-40ca-a718-1e883e3acc6c"
   },
   "outputs": [
    {
     "name": "stdout",
     "output_type": "stream",
     "text": [
      "Epoch 1/5\n",
      "450/450 [==============================] - 7026s 16s/step - loss: 0.2220 - acc: 0.9485 - val_loss: 1.7216 - val_acc: 0.7747\n",
      "Epoch 2/5\n",
      "258/450 [================>.............] - ETA: 3:14 - loss: 0.0720 - acc: 0.9827450/450 [==============================] - 480s 1s/step - loss: 0.0776 - acc: 0.9820 - val_loss: 0.1711 - val_acc: 0.9556\n",
      "Epoch 3/5\n",
      "395/450 [=========================>....] - ETA: 56s - loss: 0.1281 - acc: 0.9684450/450 [==============================] - 486s 1s/step - loss: 0.1231 - acc: 0.9697 - val_loss: 0.3781 - val_acc: 0.9326\n",
      "Epoch 4/5\n",
      "447/450 [============================>.] - ETA: 3s - loss: 0.0486 - acc: 0.9880450/450 [==============================] - 485s 1s/step - loss: 0.0485 - acc: 0.9880 - val_loss: 0.5272 - val_acc: 0.8708\n",
      "Epoch 5/5\n",
      "450/450 [==============================] - 487s 1s/step - loss: 0.0451 - acc: 0.9890 - val_loss: 0.0170 - val_acc: 0.9927\n"
     ]
    }
   ],
   "source": [
    "model.compile(optimizer='adam', metrics=['accuracy'],loss='categorical_crossentropy')\n",
    "history = LossHistory()\n",
    "\n",
    "\n",
    "\n",
    "loss_acc = model.fit_generator(generator=train_datagen,validation_data=val_datagen,epochs=5,callbacks=[history])"
   ]
  },
  {
   "cell_type": "code",
   "execution_count": 12,
   "metadata": {
    "colab": {
     "autoexec": {
      "startup": false,
      "wait_interval": 0
     },
     "base_uri": "https://localhost:8080/",
     "height": 34,
     "output_extras": [
      {
       "item_id": 1
      }
     ]
    },
    "colab_type": "code",
    "executionInfo": {
     "elapsed": 1169,
     "status": "ok",
     "timestamp": 1521822488108,
     "user": {
      "displayName": "deep learning",
      "photoUrl": "https://lh3.googleusercontent.com/a/default-user=s128",
      "userId": "113755938571436510854"
     },
     "user_tz": -330
    },
    "id": "KZYnWs9GUR6m",
    "outputId": "fcc9d8fe-465e-402e-b624-ec76f22a9601"
   },
   "outputs": [
    {
     "name": "stdout",
     "output_type": "stream",
     "text": [
      "Found GPU at: /device:GPU:0\n"
     ]
    }
   ],
   "source": [
    "import tensorflow as tf\n",
    "device_name = tf.test.gpu_device_name()\n",
    "if device_name != '/device:GPU:0':\n",
    "  raise SystemError('GPU device not found')\n",
    "print('Found GPU at: {}'.format(device_name))"
   ]
  },
  {
   "cell_type": "code",
   "execution_count": 13,
   "metadata": {
    "colab": {
     "autoexec": {
      "startup": false,
      "wait_interval": 0
     },
     "base_uri": "https://localhost:8080/",
     "height": 34,
     "output_extras": [
      {
       "item_id": 1
      }
     ]
    },
    "colab_type": "code",
    "executionInfo": {
     "elapsed": 22094,
     "status": "ok",
     "timestamp": 1521822510313,
     "user": {
      "displayName": "deep learning",
      "photoUrl": "https://lh3.googleusercontent.com/a/default-user=s128",
      "userId": "113755938571436510854"
     },
     "user_tz": -330
    },
    "id": "U8646objbz1i",
    "outputId": "d4dadbcd-6fe0-47dc-957a-52f4baac0ba5"
   },
   "outputs": [
    {
     "name": "stdout",
     "output_type": "stream",
     "text": [
      "Saved model to disk\n"
     ]
    }
   ],
   "source": [
    "model_json = model.to_json()\n",
    "with open(\"/content/drive/DL/model_resnet.json\", \"w\") as json_file:\n",
    "    json_file.write(model_json)\n",
    "# serialize weights to HDF5\n",
    "model.save_weights(\"/content/drive/DL/model_resnet.h5\")\n",
    "print(\"Saved model to disk\")\n"
   ]
  },
  {
   "cell_type": "code",
   "execution_count": 14,
   "metadata": {
    "colab": {
     "autoexec": {
      "startup": false,
      "wait_interval": 0
     },
     "base_uri": "https://localhost:8080/",
     "height": 68,
     "output_extras": [
      {
       "item_id": 2
      }
     ]
    },
    "colab_type": "code",
    "executionInfo": {
     "elapsed": 1010040,
     "status": "ok",
     "timestamp": 1521823520472,
     "user": {
      "displayName": "deep learning",
      "photoUrl": "https://lh3.googleusercontent.com/a/default-user=s128",
      "userId": "113755938571436510854"
     },
     "user_tz": -330
    },
    "id": "n7OXmOladC3h",
    "outputId": "f5eeaa3c-c8ca-4ea6-cb27-34640ce2fdc9"
   },
   "outputs": [
    {
     "name": "stdout",
     "output_type": "stream",
     "text": [
      "Loaded model from disk\n",
      "Loss = 0.023641265961802466\n",
      "Test Accuracy = 0.9950303699613473\n"
     ]
    }
   ],
   "source": [
    "json_file = open('/content/drive/DL/model_resnet.json', 'r')\n",
    "loaded_model_json = json_file.read()\n",
    "json_file.close()\n",
    "loaded_model = model_from_json(loaded_model_json)\n",
    "# load weights into new model\n",
    "loaded_model.load_weights(\"/content/drive/DL/model_resnet.h5\")\n",
    "print(\"Loaded model from disk\")\n",
    "\n",
    "\n",
    "loaded_model.compile(optimizer='adam', metrics=['accuracy'],loss='categorical_crossentropy')\n",
    "\n",
    "preds = loaded_model.evaluate_generator(test_datagen)\n",
    "print (\"Loss = \" + str(preds[0]))\n",
    "print (\"Test Accuracy = \" + str(preds[1]))"
   ]
  },
  {
   "cell_type": "code",
   "execution_count": 15,
   "metadata": {
    "colab": {
     "autoexec": {
      "startup": false,
      "wait_interval": 0
     },
     "base_uri": "https://localhost:8080/",
     "height": 393,
     "output_extras": [
      {
       "item_id": 1
      },
      {
       "item_id": 2
      }
     ]
    },
    "colab_type": "code",
    "executionInfo": {
     "elapsed": 1132,
     "status": "ok",
     "timestamp": 1521823521628,
     "user": {
      "displayName": "deep learning",
      "photoUrl": "https://lh3.googleusercontent.com/a/default-user=s128",
      "userId": "113755938571436510854"
     },
     "user_tz": -330
    },
    "id": "mj4-_-gOcA_u",
    "outputId": "6cda26b6-eada-4160-8973-1aed99f074ca"
   },
   "outputs": [
    {
     "data": {
      "text/plain": [
       "<matplotlib.legend.Legend at 0x7f2159a64c88>"
      ]
     },
     "execution_count": 15,
     "metadata": {
      "tags": []
     },
     "output_type": "execute_result"
    },
    {
     "data": {
      "image/png": "[encoded data removed]",
      "text/plain": [
       "<matplotlib.figure.Figure at 0x7f215c8f0e48>"
      ]
     },
     "metadata": {
      "tags": []
     },
     "output_type": "display_data"
    }
   ],
   "source": [
    "# summarize history for accuracy\n",
    "plt.plot(loss_acc.history['acc'])\n",
    "plt.plot(loss_acc.history['val_acc'])\n",
    "plt.title('model accuracy')\n",
    "plt.ylabel('accuracy')\n",
    "plt.xlabel('epoch')\n",
    "plt.legend(['train', 'validation'], loc='upper left')"
   ]
  },
  {
   "cell_type": "code",
   "execution_count": 16,
   "metadata": {
    "colab": {
     "autoexec": {
      "startup": false,
      "wait_interval": 0
     },
     "base_uri": "https://localhost:8080/",
     "height": 393,
     "output_extras": [
      {
       "item_id": 1
      },
      {
       "item_id": 2
      }
     ]
    },
    "colab_type": "code",
    "executionInfo": {
     "elapsed": 1283,
     "status": "ok",
     "timestamp": 1521823523027,
     "user": {
      "displayName": "deep learning",
      "photoUrl": "https://lh3.googleusercontent.com/a/default-user=s128",
      "userId": "113755938571436510854"
     },
     "user_tz": -330
    },
    "id": "imbDfDAlck7N",
    "outputId": "b1ce09ee-b01c-491b-a255-7a2bc57430d4"
   },
   "outputs": [
    {
     "data": {
      "text/plain": [
       "<function matplotlib.pyplot.show>"
      ]
     },
     "execution_count": 16,
     "metadata": {
      "tags": []
     },
     "output_type": "execute_result"
    },
    {
     "data": {
      "image/png": "[encoded data removed]",
      "text/plain": [
       "<matplotlib.figure.Figure at 0x7f215becce48>"
      ]
     },
     "metadata": {
      "tags": []
     },
     "output_type": "display_data"
    }
   ],
   "source": [
    "plt.plot(loss_acc.history['loss'])\n",
    "plt.plot(loss_acc.history['val_loss'])\n",
    "plt.title('model loss')\n",
    "plt.ylabel('loss')\n",
    "plt.xlabel('epoch')\n",
    "plt.legend(['train', 'validation'], loc='upper left')\n",
    "plt.show\n"
   ]
  },
  {
   "cell_type": "code",
   "execution_count": 17,
   "metadata": {
    "colab": {
     "autoexec": {
      "startup": false,
      "wait_interval": 0
     },
     "base_uri": "https://localhost:8080/",
     "height": 376,
     "output_extras": [
      {
       "item_id": 1
      }
     ]
    },
    "colab_type": "code",
    "executionInfo": {
     "elapsed": 1214,
     "status": "ok",
     "timestamp": 1521823524384,
     "user": {
      "displayName": "deep learning",
      "photoUrl": "https://lh3.googleusercontent.com/a/default-user=s128",
      "userId": "113755938571436510854"
     },
     "user_tz": -330
    },
    "id": "TlZf4XD-cyMx",
    "outputId": "331a8643-4e10-49e9-c0d1-50f3eba86d03"
   },
   "outputs": [
    {
     "data": {
      "image/png": "[encoded data removed]",
      "text/plain": [
       "<matplotlib.figure.Figure at 0x7f2156467e80>"
      ]
     },
     "metadata": {
      "tags": []
     },
     "output_type": "display_data"
    }
   ],
   "source": [
    "plt.plot(history.losses)\n",
    "\n",
    "plt.title('model loss')\n",
    "plt.ylabel('loss')\n",
    "plt.xlabel('epoch')\n",
    "plt.legend(['train'], loc='upper left')\n",
    "plt.show()"
   ]
  }
 ],
 "metadata": {
  "accelerator": "GPU",
  "colab": {
   "collapsed_sections": [],
   "default_view": {},
   "name": "resnet.ipynb",
   "provenance": [],
   "version": "0.3.2",
   "views": {}
  },
  "kernelspec": {
   "display_name": "Python 3",
   "language": "python",
   "name": "python3"
  },
  "language_info": {
   "codemirror_mode": {
    "name": "ipython",
    "version": 3
   },
   "file_extension": ".py",
   "mimetype": "text/x-python",
   "name": "python",
   "nbconvert_exporter": "python",
   "pygments_lexer": "ipython3",
   "version": "3.5.2"
  }
 },
 "nbformat": 4,
 "nbformat_minor": 1
}
