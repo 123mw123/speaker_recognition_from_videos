{
 "cells": [
  {
   "cell_type": "code",
   "execution_count": 1,
   "metadata": {
    "colab": {
     "autoexec": {
      "startup": false,
      "wait_interval": 0
     },
     "base_uri": "https://localhost:8080/",
     "height": 105,
     "output_extras": [
      {
       "item_id": 4
      }
     ]
    },
    "colab_type": "code",
    "executionInfo": {
     "elapsed": 16335,
     "status": "ok",
     "timestamp": 1521661136134,
     "user": {
      "displayName": "deep learning",
      "photoUrl": "https://lh3.googleusercontent.com/a/default-user=s128",
      "userId": "113755938571436510854"
     },
     "user_tz": -330
    },
    "id": "rdBspzm9OB9s",
    "outputId": "0f676e8d-2a6a-4e9e-8413-79d0c7137718"
   },
   "outputs": [
    {
     "name": "stdout",
     "output_type": "stream",
     "text": [
      "Please, open the following URL in a web browser: https://accounts.google.com/o/oauth2/auth?client_id=32555940559.apps.googleusercontent.com&redirect_uri=urn%3Aietf%3Awg%3Aoauth%3A2.0%3Aoob&scope=https%3A%2F%2Fwww.googleapis.com%2Fauth%2Fdrive&response_type=code&access_type=offline&approval_prompt=force\r\n",
      "··········\n",
      "Please, open the following URL in a web browser: https://accounts.google.com/o/oauth2/auth?client_id=32555940559.apps.googleusercontent.com&redirect_uri=urn%3Aietf%3Awg%3Aoauth%3A2.0%3Aoob&scope=https%3A%2F%2Fwww.googleapis.com%2Fauth%2Fdrive&response_type=code&access_type=offline&approval_prompt=force\n",
      "Please enter the verification code: Access token retrieved correctly.\n"
     ]
    }
   ],
   "source": [
    "!apt-get install -y -qq software-properties-common python-software-properties module-init-tools\n",
    "!add-apt-repository -y ppa:alessandro-strada/ppa 2>&1 > /dev/null\n",
    "!apt-get update -qq 2>&1 > /dev/null\n",
    "!apt-get -y install -qq google-drive-ocamlfuse fuse\n",
    "from google.colab import auth\n",
    "auth.authenticate_user()\n",
    "from oauth2client.client import GoogleCredentials\n",
    "creds = GoogleCredentials.get_application_default()\n",
    "import getpass\n",
    "!google-drive-ocamlfuse -headless -id={creds.client_id} -secret={creds.client_secret} < /dev/null 2>&1 | grep URL\n",
    "vcode = getpass.getpass()\n",
    "!echo {vcode} | google-drive-ocamlfuse -headless -id={creds.client_id} -secret={creds.client_secret}"
   ]
  },
  {
   "cell_type": "code",
   "execution_count": 0,
   "metadata": {
    "colab": {
     "autoexec": {
      "startup": false,
      "wait_interval": 0
     }
    },
    "colab_type": "code",
    "id": "pd2_f1kJ9ZMA"
   },
   "outputs": [],
   "source": [
    "!mkdir -p drive\n",
    "!google-drive-ocamlfuse drive\n"
   ]
  },
  {
   "cell_type": "code",
   "execution_count": 6,
   "metadata": {
    "colab": {
     "autoexec": {
      "startup": false,
      "wait_interval": 0
     },
     "base_uri": "https://localhost:8080/",
     "height": 34,
     "output_extras": [
      {
       "item_id": 1
      }
     ]
    },
    "colab_type": "code",
    "executionInfo": {
     "elapsed": 1347,
     "status": "ok",
     "timestamp": 1521661200662,
     "user": {
      "displayName": "deep learning",
      "photoUrl": "https://lh3.googleusercontent.com/a/default-user=s128",
      "userId": "113755938571436510854"
     },
     "user_tz": -330
    },
    "id": "HM9Fqb6ZEvzH",
    "outputId": "c8e2fd3c-b203-4526-b49c-f5614cb2d36a"
   },
   "outputs": [
    {
     "name": "stdout",
     "output_type": "stream",
     "text": [
      "\u001b[0m\u001b[01;34mdeeplearning001\u001b[0m/  \u001b[01;34mDL\u001b[0m/  \u001b[01;34minception\u001b[0m/  inception.ipynb  \u001b[01;34mvgg\u001b[0m/\r\n"
     ]
    }
   ],
   "source": [
    "ls"
   ]
  },
  {
   "cell_type": "code",
   "execution_count": 28,
   "metadata": {
    "colab": {
     "autoexec": {
      "startup": false,
      "wait_interval": 0
     },
     "base_uri": "https://localhost:8080/",
     "height": 34,
     "output_extras": [
      {
       "item_id": 1
      }
     ]
    },
    "colab_type": "code",
    "executionInfo": {
     "elapsed": 968,
     "status": "ok",
     "timestamp": 1521688051497,
     "user": {
      "displayName": "deep learning",
      "photoUrl": "https://lh3.googleusercontent.com/a/default-user=s128",
      "userId": "113755938571436510854"
     },
     "user_tz": -330
    },
    "id": "0a201eamkonT",
    "outputId": "89dc3fa0-914e-4e8e-8b92-eb7160d5a382"
   },
   "outputs": [
    {
     "name": "stdout",
     "output_type": "stream",
     "text": [
      "Found GPU at: /device:GPU:0\n"
     ]
    }
   ],
   "source": [
    "import tensorflow as tf\n",
    "device_name = tf.test.gpu_device_name()\n",
    "if device_name != '/device:GPU:0':\n",
    "  raise SystemError('GPU device not found')\n",
    "print('Found GPU at: {}'.format(device_name))"
   ]
  },
  {
   "cell_type": "code",
   "execution_count": 0,
   "metadata": {
    "colab": {
     "autoexec": {
      "startup": false,
      "wait_interval": 0
     }
    },
    "colab_type": "code",
    "id": "L60lsVHscNNf"
   },
   "outputs": [],
   "source": [
    "import numpy as np\n",
    "from keras.layers import Dense, Dropout\n",
    "from keras.layers import GlobalAveragePooling2D\n",
    "from keras.models import Model,model_from_json\n",
    "from keras.applications.vgg16 import VGG16\n",
    "from keras.preprocessing.image import ImageDataGenerator\n",
    "import matplotlib.pyplot as plt\n",
    "import keras\n"
   ]
  },
  {
   "cell_type": "code",
   "execution_count": 0,
   "metadata": {
    "colab": {
     "autoexec": {
      "startup": false,
      "wait_interval": 0
     }
    },
    "colab_type": "code",
    "id": "HcFZjkP5cSWe"
   },
   "outputs": [],
   "source": [
    "np.random.seed(3)\n",
    "class LossHistory(keras.callbacks.Callback):\n",
    "    def on_train_begin(self, logs={}):\n",
    "        self.losses = []\n",
    "\n",
    "    def on_batch_end(self, batch, logs={}):\n",
    "        k = len(self.losses)\n",
    "        if(k!=0):\n",
    "            self.losses.append((logs.get('loss')+self.losses[k-1]*k)/(k+1))\n",
    "        else:\n",
    "            self.losses.append(logs.get('loss'))\n",
    "\n",
    "\n",
    "DATA_DIR = \"/content/drive/DL/small\""
   ]
  },
  {
   "cell_type": "code",
   "execution_count": 15,
   "metadata": {
    "colab": {
     "autoexec": {
      "startup": false,
      "wait_interval": 0
     },
     "base_uri": "https://localhost:8080/",
     "height": 34,
     "output_extras": [
      {
       "item_id": 1
      }
     ]
    },
    "colab_type": "code",
    "executionInfo": {
     "elapsed": 12604,
     "status": "ok",
     "timestamp": 1521686602179,
     "user": {
      "displayName": "deep learning",
      "photoUrl": "https://lh3.googleusercontent.com/a/default-user=s128",
      "userId": "113755938571436510854"
     },
     "user_tz": -330
    },
    "id": "l4B5DdxBcV0O",
    "outputId": "a57044f6-9b40-4eed-d42f-bc15f6bf2d1e"
   },
   "outputs": [
    {
     "name": "stdout",
     "output_type": "stream",
     "text": [
      "Found 14387 images belonging to 7 classes.\n"
     ]
    }
   ],
   "source": [
    "train_datagen = ImageDataGenerator().flow_from_directory(directory=DATA_DIR+\"//\"+\"train\",target_size=(224,224),color_mode='rgb',\n",
    "                                                         classes=[\"AK\",\"FR\",\"Noise\",\"SGV\", \"SK\",\"SM\", \"SP\"],class_mode=\"categorical\", batch_size=32)"
   ]
  },
  {
   "cell_type": "code",
   "execution_count": 31,
   "metadata": {
    "colab": {
     "autoexec": {
      "startup": false,
      "wait_interval": 0
     },
     "base_uri": "https://localhost:8080/",
     "height": 51,
     "output_extras": [
      {
       "item_id": 2
      }
     ]
    },
    "colab_type": "code",
    "executionInfo": {
     "elapsed": 5947,
     "status": "ok",
     "timestamp": 1521688067751,
     "user": {
      "displayName": "deep learning",
      "photoUrl": "https://lh3.googleusercontent.com/a/default-user=s128",
      "userId": "113755938571436510854"
     },
     "user_tz": -330
    },
    "id": "iudD0nYMcYOJ",
    "outputId": "3041bea8-4ae9-43ae-f17c-a8d286cadd7f"
   },
   "outputs": [
    {
     "name": "stdout",
     "output_type": "stream",
     "text": [
      "Found 1780 images belonging to 7 classes.\n",
      "Found 1811 images belonging to 7 classes.\n"
     ]
    }
   ],
   "source": [
    "val_datagen = ImageDataGenerator().flow_from_directory(directory=DATA_DIR+\"//\"+\"val\",target_size=(224,224),color_mode='rgb',\n",
    "                                                       classes=[\"AK\",\"FR\",\"Noise\",\"SGV\", \"SK\",\"SM\", \"SP\"], class_mode=\"categorical\",batch_size=32)\n",
    "test_datagen = ImageDataGenerator().flow_from_directory(directory=DATA_DIR+\"//\"+\"test\",target_size=(224,224),color_mode='rgb',\n",
    "                                                        classes=[\"AK\",\"FR\",\"Noise\",\"SGV\", \"SK\",\"SM\", \"SP\"], class_mode=\"categorical\",batch_size=32)"
   ]
  },
  {
   "cell_type": "code",
   "execution_count": 0,
   "metadata": {
    "colab": {
     "autoexec": {
      "startup": false,
      "wait_interval": 0
     }
    },
    "colab_type": "code",
    "id": "7Dy54cmqdToG"
   },
   "outputs": [],
   "source": [
    "base_model = VGG16(weights='imagenet', include_top=False)\n",
    "x = base_model.output\n",
    "x = GlobalAveragePooling2D()(x)\n",
    "# let's add a fully-connected layer\n",
    "x = Dense(100, activation='relu')(x)\n",
    "x = Dropout(0.5)(x)\n",
    "# and a logistic layer -- let's say we have 200 classes\n",
    "predictions = Dense(7, activation='softmax')(x)\n",
    "\n",
    "# this is the model we will train\n",
    "model = Model(inputs=base_model.input, outputs=predictions)\n",
    "for layer in base_model.layers:\n",
    "    layer.trainable = False"
   ]
  },
  {
   "cell_type": "code",
   "execution_count": 32,
   "metadata": {
    "colab": {
     "autoexec": {
      "startup": false,
      "wait_interval": 0
     },
     "base_uri": "https://localhost:8080/",
     "height": 34,
     "output_extras": [
      {
       "item_id": 1
      }
     ]
    },
    "colab_type": "code",
    "executionInfo": {
     "elapsed": 981,
     "status": "ok",
     "timestamp": 1521688072083,
     "user": {
      "displayName": "deep learning",
      "photoUrl": "https://lh3.googleusercontent.com/a/default-user=s128",
      "userId": "113755938571436510854"
     },
     "user_tz": -330
    },
    "id": "9zJMrfmew_Me",
    "outputId": "8760f42a-00ad-4607-d598-170b6691934f"
   },
   "outputs": [
    {
     "name": "stdout",
     "output_type": "stream",
     "text": [
      "Found GPU at: /device:GPU:0\n"
     ]
    }
   ],
   "source": [
    "import tensorflow as tf\n",
    "device_name = tf.test.gpu_device_name()\n",
    "if device_name != '/device:GPU:0':\n",
    "  raise SystemError('GPU device not found')\n",
    "print('Found GPU at: {}'.format(device_name))"
   ]
  },
  {
   "cell_type": "code",
   "execution_count": 19,
   "metadata": {
    "colab": {
     "autoexec": {
      "startup": false,
      "wait_interval": 0
     },
     "base_uri": "https://localhost:8080/",
     "height": 207,
     "output_extras": [
      {
       "item_id": 471
      },
      {
       "item_id": 938
      },
      {
       "item_id": 1368
      },
      {
       "item_id": 1789
      }
     ]
    },
    "colab_type": "code",
    "executionInfo": {
     "elapsed": 820123,
     "status": "ok",
     "timestamp": 1521687438441,
     "user": {
      "displayName": "deep learning",
      "photoUrl": "https://lh3.googleusercontent.com/a/default-user=s128",
      "userId": "113755938571436510854"
     },
     "user_tz": -330
    },
    "id": "1Tsg19ggdw9z",
    "outputId": "4689aa96-b0ea-41e9-dd43-9c3150eb3a28"
   },
   "outputs": [
    {
     "name": "stdout",
     "output_type": "stream",
     "text": [
      "Epoch 1/5\n",
      "450/450 [==============================] - 164s 365ms/step - loss: 0.4433 - acc: 0.9055 - val_loss: 0.0121 - val_acc: 0.9983\n",
      "Epoch 2/5\n",
      "261/450 [================>.............] - ETA: 1:00 - loss: 0.0597 - acc: 0.9825450/450 [==============================] - 163s 363ms/step - loss: 0.0515 - acc: 0.9851 - val_loss: 0.0042 - val_acc: 0.9994\n",
      "Epoch 3/5\n",
      "392/450 [=========================>....] - ETA: 18s - loss: 0.0308 - acc: 0.9908450/450 [==============================] - 163s 363ms/step - loss: 0.0308 - acc: 0.9912 - val_loss: 0.0023 - val_acc: 1.0000\n",
      "Epoch 4/5\n",
      "441/450 [============================>.] - ETA: 2s - loss: 0.0293 - acc: 0.9910450/450 [==============================] - 164s 365ms/step - loss: 0.0289 - acc: 0.9911 - val_loss: 0.0018 - val_acc: 0.9994\n",
      "Epoch 5/5\n",
      "450/450 [==============================] - 163s 363ms/step - loss: 0.0234 - acc: 0.9934 - val_loss: 0.0016 - val_acc: 0.9994\n"
     ]
    }
   ],
   "source": [
    "model.compile(optimizer='adam', metrics=['accuracy'],loss='categorical_crossentropy')\n",
    "history = LossHistory()\n",
    "\n",
    "# train the model on the new data for a few batches\n",
    "\n",
    "loss_acc = model.fit_generator(generator=train_datagen,validation_data=val_datagen,epochs=5,callbacks=[history])"
   ]
  },
  {
   "cell_type": "code",
   "execution_count": 33,
   "metadata": {
    "colab": {
     "autoexec": {
      "startup": false,
      "wait_interval": 0
     },
     "base_uri": "https://localhost:8080/",
     "height": 34,
     "output_extras": [
      {
       "item_id": 1
      }
     ]
    },
    "colab_type": "code",
    "executionInfo": {
     "elapsed": 1109,
     "status": "ok",
     "timestamp": 1521688076409,
     "user": {
      "displayName": "deep learning",
      "photoUrl": "https://lh3.googleusercontent.com/a/default-user=s128",
      "userId": "113755938571436510854"
     },
     "user_tz": -330
    },
    "id": "5SLuHXZ1d-tk",
    "outputId": "54faea8d-8bc9-4323-ebd2-2d44ec82c837"
   },
   "outputs": [
    {
     "name": "stdout",
     "output_type": "stream",
     "text": [
      "Found GPU at: /device:GPU:0\n"
     ]
    }
   ],
   "source": [
    "import tensorflow as tf\n",
    "device_name = tf.test.gpu_device_name()\n",
    "if device_name != '/device:GPU:0':\n",
    "  raise SystemError('GPU device not found')\n",
    "print('Found GPU at: {}'.format(device_name))"
   ]
  },
  {
   "cell_type": "code",
   "execution_count": 24,
   "metadata": {
    "colab": {
     "autoexec": {
      "startup": false,
      "wait_interval": 0
     },
     "base_uri": "https://localhost:8080/",
     "height": 34,
     "output_extras": [
      {
       "item_id": 1
      }
     ]
    },
    "colab_type": "code",
    "executionInfo": {
     "elapsed": 6297,
     "status": "ok",
     "timestamp": 1521687542769,
     "user": {
      "displayName": "deep learning",
      "photoUrl": "https://lh3.googleusercontent.com/a/default-user=s128",
      "userId": "113755938571436510854"
     },
     "user_tz": -330
    },
    "id": "xva-waxjgtdN",
    "outputId": "f4721869-b688-4f55-a14a-115a0899bca8"
   },
   "outputs": [
    {
     "name": "stdout",
     "output_type": "stream",
     "text": [
      "Saved model to disk\n"
     ]
    }
   ],
   "source": [
    "model_json = model.to_json()\n",
    "with open(\"/content/drive/DL/model_vgg.json\", \"w\") as json_file:\n",
    "    json_file.write(model_json)\n",
    "# serialize weights to HDF5\n",
    "model.save_weights(\"/content/drive/DL/model_vgg.h5\")\n",
    "print(\"Saved model to disk\")\n"
   ]
  },
  {
   "cell_type": "code",
   "execution_count": 34,
   "metadata": {
    "colab": {
     "autoexec": {
      "startup": false,
      "wait_interval": 0
     },
     "base_uri": "https://localhost:8080/",
     "height": 68,
     "output_extras": [
      {
       "item_id": 2
      }
     ]
    },
    "colab_type": "code",
    "executionInfo": {
     "elapsed": 24489,
     "status": "ok",
     "timestamp": 1521688105176,
     "user": {
      "displayName": "deep learning",
      "photoUrl": "https://lh3.googleusercontent.com/a/default-user=s128",
      "userId": "113755938571436510854"
     },
     "user_tz": -330
    },
    "id": "XOPIXYMFhBqo",
    "outputId": "059510f2-7a5f-40de-b25c-64a5c11504a6"
   },
   "outputs": [
    {
     "name": "stdout",
     "output_type": "stream",
     "text": [
      "Loaded model from disk\n",
      "Loss = 0.0027292892307195166\n",
      "Test Accuracy = 0.9988956377691883\n"
     ]
    }
   ],
   "source": [
    "json_file = open('/content/drive/DL/model_vgg.json', 'r')\n",
    "loaded_model_json = json_file.read()\n",
    "json_file.close()\n",
    "loaded_model = model_from_json(loaded_model_json)\n",
    "# load weights into new model\n",
    "loaded_model.load_weights(\"/content/drive/DL/model_vgg.h5\")\n",
    "print(\"Loaded model from disk\")\n",
    "\n",
    "\n",
    "loaded_model.compile(optimizer='adam', metrics=['accuracy'],loss='categorical_crossentropy')\n",
    "\n",
    "preds = loaded_model.evaluate_generator(test_datagen)\n",
    "print (\"Loss = \" + str(preds[0]))\n",
    "print (\"Test Accuracy = \" + str(preds[1]))"
   ]
  },
  {
   "cell_type": "code",
   "execution_count": 35,
   "metadata": {
    "colab": {
     "autoexec": {
      "startup": false,
      "wait_interval": 0
     },
     "base_uri": "https://localhost:8080/",
     "height": 393,
     "output_extras": [
      {
       "item_id": 1
      },
      {
       "item_id": 2
      }
     ]
    },
    "colab_type": "code",
    "executionInfo": {
     "elapsed": 1218,
     "status": "ok",
     "timestamp": 1521688117152,
     "user": {
      "displayName": "deep learning",
      "photoUrl": "https://lh3.googleusercontent.com/a/default-user=s128",
      "userId": "113755938571436510854"
     },
     "user_tz": -330
    },
    "id": "_oWNl5J9hICq",
    "outputId": "f95bc06d-eed1-48aa-e4b9-326673d2a31f"
   },
   "outputs": [
    {
     "data": {
      "text/plain": [
       "<matplotlib.legend.Legend at 0x7fd55daf6518>"
      ]
     },
     "execution_count": 35,
     "metadata": {
      "tags": []
     },
     "output_type": "execute_result"
    },
    {
     "data": {
      "image/png": "[encoded data removed]",
      "text/plain": [
       "<matplotlib.figure.Figure at 0x7fd55fa21e10>"
      ]
     },
     "metadata": {
      "tags": []
     },
     "output_type": "display_data"
    }
   ],
   "source": [
    "# summarize history for accuracy\n",
    "plt.plot(loss_acc.history['acc'])\n",
    "plt.plot(loss_acc.history['val_acc'])\n",
    "plt.title('model accuracy')\n",
    "plt.ylabel('accuracy')\n",
    "plt.xlabel('epoch')\n",
    "plt.legend(['train', 'validation'], loc='upper left')"
   ]
  },
  {
   "cell_type": "code",
   "execution_count": 36,
   "metadata": {
    "colab": {
     "autoexec": {
      "startup": false,
      "wait_interval": 0
     },
     "base_uri": "https://localhost:8080/",
     "height": 393,
     "output_extras": [
      {
       "item_id": 1
      },
      {
       "item_id": 2
      }
     ]
    },
    "colab_type": "code",
    "executionInfo": {
     "elapsed": 1243,
     "status": "ok",
     "timestamp": 1521688125958,
     "user": {
      "displayName": "deep learning",
      "photoUrl": "https://lh3.googleusercontent.com/a/default-user=s128",
      "userId": "113755938571436510854"
     },
     "user_tz": -330
    },
    "id": "IlTf5kmBhOVv",
    "outputId": "3bd14dda-9aed-4d38-c1a6-fb8aed23afe4"
   },
   "outputs": [
    {
     "data": {
      "text/plain": [
       "<function matplotlib.pyplot.show>"
      ]
     },
     "execution_count": 36,
     "metadata": {
      "tags": []
     },
     "output_type": "execute_result"
    },
    {
     "data": {
      "image/png": "[encoded data removed]",
      "text/plain": [
       "<matplotlib.figure.Figure at 0x7fd55ee8dd30>"
      ]
     },
     "metadata": {
      "tags": []
     },
     "output_type": "display_data"
    }
   ],
   "source": [
    "plt.plot(loss_acc.history['loss'])\n",
    "plt.plot(loss_acc.history['val_loss'])\n",
    "plt.title('model loss')\n",
    "plt.ylabel('loss')\n",
    "plt.xlabel('epoch')\n",
    "plt.legend(['train', 'validation'], loc='upper left')\n",
    "plt.show"
   ]
  },
  {
   "cell_type": "code",
   "execution_count": 37,
   "metadata": {
    "colab": {
     "autoexec": {
      "startup": false,
      "wait_interval": 0
     },
     "base_uri": "https://localhost:8080/",
     "height": 376,
     "output_extras": [
      {
       "item_id": 1
      }
     ]
    },
    "colab_type": "code",
    "executionInfo": {
     "elapsed": 1007,
     "status": "ok",
     "timestamp": 1521688177926,
     "user": {
      "displayName": "deep learning",
      "photoUrl": "https://lh3.googleusercontent.com/a/default-user=s128",
      "userId": "113755938571436510854"
     },
     "user_tz": -330
    },
    "id": "WdNTMbNehmjc",
    "outputId": "a5335ef9-ce6a-42fa-838b-5f436462431c"
   },
   "outputs": [
    {
     "data": {
      "image/png": "[encoded data removed]",
      "text/plain": [
       "<matplotlib.figure.Figure at 0x7fd55dab0c50>"
      ]
     },
     "metadata": {
      "tags": []
     },
     "output_type": "display_data"
    }
   ],
   "source": [
    "plt.plot(history.losses)\n",
    "\n",
    "plt.title('model loss')\n",
    "plt.ylabel('loss')\n",
    "plt.xlabel('epoch')\n",
    "plt.legend(['train'], loc='upper left')\n",
    "plt.show()"
   ]
  }
 ],
 "metadata": {
  "accelerator": "GPU",
  "colab": {
   "collapsed_sections": [],
   "default_view": {},
   "name": "VGG.ipynb",
   "provenance": [],
   "version": "0.3.2",
   "views": {}
  },
  "kernelspec": {
   "display_name": "Python 3",
   "language": "python",
   "name": "python3"
  },
  "language_info": {
   "codemirror_mode": {
    "name": "ipython",
    "version": 3
   },
   "file_extension": ".py",
   "mimetype": "text/x-python",
   "name": "python",
   "nbconvert_exporter": "python",
   "pygments_lexer": "ipython3",
   "version": "3.5.2"
  }
 },
 "nbformat": 4,
 "nbformat_minor": 1
}
