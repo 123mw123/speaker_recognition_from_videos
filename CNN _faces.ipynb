{
 "cells": [
  {
   "cell_type": "code",
   "execution_count": 5,
   "metadata": {
    "colab": {
     "autoexec": {
      "startup": false,
      "wait_interval": 0
     },
     "base_uri": "https://localhost:8080/",
     "height": 34,
     "output_extras": [
      {
       "item_id": 1
      }
     ]
    },
    "colab_type": "code",
    "executionInfo": {
     "elapsed": 1133,
     "status": "ok",
     "timestamp": 1523026613166,
     "user": {
      "displayName": "deep learning",
      "photoUrl": "https://lh3.googleusercontent.com/a/default-user=s128",
      "userId": "113755938571436510854"
     },
     "user_tz": -330
    },
    "id": "rknaLLzJYGvY",
    "outputId": "79dd47aa-565c-44b3-9d68-ee7d1c4417f4"
   },
   "outputs": [
    {
     "name": "stderr",
     "output_type": "stream",
     "text": [
      "Using TensorFlow backend.\n"
     ]
    }
   ],
   "source": [
    "import numpy as np\n",
    "from keras.layers import Dense, Dropout,BatchNormalization,Activation,Input,Flatten\n",
    "from keras.layers import GlobalAveragePooling2D\n",
    "from keras.models import Sequential,model_from_json\n",
    "\n",
    "from keras.preprocessing.image import ImageDataGenerator\n",
    "from keras.preprocessing import image\n",
    "import matplotlib.pyplot as plt\n",
    "import keras\n",
    "from keras.optimizers import SGD\n",
    "import matplotlib.pyplot as plt\n",
    "from PIL import Image\n",
    "from PIL.JpegImagePlugin import JpegImageFile\n",
    "from keras.layers import Conv2D, MaxPooling2D"
   ]
  },
  {
   "cell_type": "code",
   "execution_count": 0,
   "metadata": {
    "colab": {
     "autoexec": {
      "startup": false,
      "wait_interval": 0
     }
    },
    "colab_type": "code",
    "id": "HS0OjutqnGzZ"
   },
   "outputs": [],
   "source": [
    "np.random.seed(3)\n",
    "class LossHistory(keras.callbacks.Callback):\n",
    "    def on_train_begin(self, logs={}):\n",
    "        self.losses = []\n",
    "\n",
    "    def on_batch_end(self, batch, logs={}):\n",
    "        k = len(self.losses)\n",
    "        if(k!=0):\n",
    "            self.losses.append((logs.get('loss')+self.losses[k-1]*k)/(k+1))\n",
    "        else:\n",
    "            self.losses.append(logs.get('loss'))\n",
    "\n",
    "\n",
    "DATA_DIR = \"/content/drive/DL/faces_large\""
   ]
  },
  {
   "cell_type": "code",
   "execution_count": 8,
   "metadata": {
    "colab": {
     "autoexec": {
      "startup": false,
      "wait_interval": 0
     },
     "base_uri": "https://localhost:8080/",
     "height": 34,
     "output_extras": [
      {
       "item_id": 1
      }
     ]
    },
    "colab_type": "code",
    "executionInfo": {
     "elapsed": 12406,
     "status": "ok",
     "timestamp": 1523026967599,
     "user": {
      "displayName": "deep learning",
      "photoUrl": "https://lh3.googleusercontent.com/a/default-user=s128",
      "userId": "113755938571436510854"
     },
     "user_tz": -330
    },
    "id": "qUvmy-iQl3Nr",
    "outputId": "09740cb3-76cc-47ce-834c-0f95422b5750"
   },
   "outputs": [
    {
     "name": "stdout",
     "output_type": "stream",
     "text": [
      "Found 1009 images belonging to 7 classes.\n"
     ]
    }
   ],
   "source": [
    "train_datagen = ImageDataGenerator().flow_from_directory(directory=DATA_DIR+\"//\"+\"train\",target_size=(96,96),color_mode='rgb',\n",
    "                                                         classes=[\"AK\",\"FR\",\"Noise\",\"SGV\", \"SK\",\"SM\", \"SP\"],class_mode=\"categorical\", batch_size=32)"
   ]
  },
  {
   "cell_type": "code",
   "execution_count": 15,
   "metadata": {
    "colab": {
     "autoexec": {
      "startup": false,
      "wait_interval": 0
     },
     "base_uri": "https://localhost:8080/",
     "height": 34,
     "output_extras": [
      {
       "item_id": 1
      }
     ]
    },
    "colab_type": "code",
    "executionInfo": {
     "elapsed": 2610,
     "status": "ok",
     "timestamp": 1523028266297,
     "user": {
      "displayName": "deep learning",
      "photoUrl": "https://lh3.googleusercontent.com/a/default-user=s128",
      "userId": "113755938571436510854"
     },
     "user_tz": -330
    },
    "id": "I_tPiloel4tJ",
    "outputId": "0206c3ff-00ab-4796-e9c8-9f71bfe2a0fd"
   },
   "outputs": [
    {
     "name": "stdout",
     "output_type": "stream",
     "text": [
      "Found 1462 images belonging to 7 classes.\n"
     ]
    }
   ],
   "source": [
    "#val_datagen = ImageDataGenerator().flow_from_directory(directory=DATA_DIR+\"//\"+\"val\",target_size=(224,224),color_mode='rgb',\n",
    "#                                                         classes=[\"AK\",\"FR\",\"Noise\",\"SGV\", \"SK\",\"SM\", \"SP\"],class_mode=\"categorical\", batch_size=32)\n",
    "test_datagen = ImageDataGenerator().flow_from_directory(directory=DATA_DIR+\"//\"+\"test\",target_size=(96,96),color_mode='rgb',\n",
    "                                                        classes=[\"AK\",\"FR\",\"Noise\",\"SGV\", \"SK\",\"SM\", \"SP\"], class_mode=\"categorical\",batch_size=32)                                                   "
   ]
  },
  {
   "cell_type": "code",
   "execution_count": 0,
   "metadata": {
    "colab": {
     "autoexec": {
      "startup": false,
      "wait_interval": 0
     },
     "base_uri": "https://localhost:8080/",
     "height": 34,
     "output_extras": [
      {}
     ]
    },
    "colab_type": "code",
    "executionInfo": {
     "elapsed": 4242,
     "status": "ok",
     "timestamp": 1522776742093,
     "user": {
      "displayName": "deep learning",
      "photoUrl": "https://lh3.googleusercontent.com/a/default-user=s128",
      "userId": "113755938571436510854"
     },
     "user_tz": -330
    },
    "id": "ayk5nBgXjxe7",
    "outputId": "fdcd45ed-1e53-429f-f31c-73773e2555d0"
   },
   "outputs": [
    {
     "name": "stdout",
     "output_type": "stream",
     "text": [
      "Saved model to disk\n"
     ]
    }
   ],
   "source": [
    "\n",
    "model_json = encoder.to_json()\n",
    "with open(\"/content/drive/DL/mini/encoder.json\", \"w\") as json_file:\n",
    "    json_file.write(model_json)\n",
    "# serialize weights to HDF5\n",
    "encoder.save_weights(\"/content/drive/DL/mini/encoder.h5\")\n",
    "print(\"Saved model to disk\")"
   ]
  },
  {
   "cell_type": "code",
   "execution_count": 21,
   "metadata": {
    "colab": {
     "autoexec": {
      "startup": false,
      "wait_interval": 0
     },
     "base_uri": "https://localhost:8080/",
     "height": 731,
     "output_extras": [
      {
       "item_id": 1
      }
     ]
    },
    "colab_type": "code",
    "executionInfo": {
     "elapsed": 1048,
     "status": "ok",
     "timestamp": 1523029799571,
     "user": {
      "displayName": "deep learning",
      "photoUrl": "https://lh3.googleusercontent.com/a/default-user=s128",
      "userId": "113755938571436510854"
     },
     "user_tz": -330
    },
    "id": "w6vOny2_YXLP",
    "outputId": "9fc75b77-9ba5-4c3c-c476-40d71cffa1cb"
   },
   "outputs": [
    {
     "name": "stdout",
     "output_type": "stream",
     "text": [
      "_________________________________________________________________\n",
      "Layer (type)                 Output Shape              Param #   \n",
      "=================================================================\n",
      "input_5 (InputLayer)         (None, 96, 96, 3)         0         \n",
      "_________________________________________________________________\n",
      "conv2d_29 (Conv2D)           (None, 96, 96, 32)        896       \n",
      "_________________________________________________________________\n",
      "conv2d_30 (Conv2D)           (None, 96, 96, 32)        9248      \n",
      "_________________________________________________________________\n",
      "max_pooling2d_17 (MaxPooling (None, 48, 48, 32)        0         \n",
      "_________________________________________________________________\n",
      "conv2d_31 (Conv2D)           (None, 48, 48, 64)        18496     \n",
      "_________________________________________________________________\n",
      "conv2d_32 (Conv2D)           (None, 48, 48, 64)        36928     \n",
      "_________________________________________________________________\n",
      "conv2d_33 (Conv2D)           (None, 48, 48, 64)        36928     \n",
      "_________________________________________________________________\n",
      "max_pooling2d_18 (MaxPooling (None, 24, 24, 64)        0         \n",
      "_________________________________________________________________\n",
      "conv2d_34 (Conv2D)           (None, 24, 24, 128)       73856     \n",
      "_________________________________________________________________\n",
      "max_pooling2d_19 (MaxPooling (None, 12, 12, 128)       0         \n",
      "_________________________________________________________________\n",
      "conv2d_35 (Conv2D)           (None, 12, 12, 256)       295168    \n",
      "_________________________________________________________________\n",
      "max_pooling2d_20 (MaxPooling (None, 6, 6, 256)         0         \n",
      "_________________________________________________________________\n",
      "flatten_5 (Flatten)          (None, 9216)              0         \n",
      "_________________________________________________________________\n",
      "dense_9 (Dense)              (None, 100)               921700    \n",
      "_________________________________________________________________\n",
      "activation_5 (Activation)    (None, 100)               0         \n",
      "_________________________________________________________________\n",
      "dropout_5 (Dropout)          (None, 100)               0         \n",
      "_________________________________________________________________\n",
      "dense_10 (Dense)             (None, 7)                 707       \n",
      "=================================================================\n",
      "Total params: 1,393,927\n",
      "Trainable params: 1,393,927\n",
      "Non-trainable params: 0\n",
      "_________________________________________________________________\n",
      "None\n"
     ]
    }
   ],
   "source": [
    "from keras.models import Model\n",
    "from keras.layers import Input\n",
    "from keras.layers import Dense\n",
    "from keras.layers.convolutional import Conv2D\n",
    "from keras.layers.pooling import MaxPooling2D\n",
    "from keras import initializers\n",
    "\n",
    "visible = Input(shape=(96,96,3))\n",
    "\n",
    "x = Conv2D(32, kernel_size=3, activation='relu',padding=\"same\")(visible)\n",
    "\n",
    "x = Conv2D(32, kernel_size=3, activation='relu',padding=\"same\")(x)\n",
    "\n",
    "x = MaxPooling2D(pool_size=(2, 2))(x)\n",
    "x = Conv2D(64, kernel_size=3, activation='relu',padding=\"same\")(x)\n",
    "\n",
    "x = Conv2D(64, kernel_size=3, activation='relu',padding=\"same\")(x)\n",
    "\n",
    "\n",
    "x = Conv2D(64, kernel_size=3, activation='relu',padding=\"same\")(x)\n",
    "\n",
    "x = MaxPooling2D(pool_size=(2, 2))(x)\n",
    "x = Conv2D(128, kernel_size=3,activation='relu',padding=\"same\")(x)\n",
    "\n",
    "\n",
    "x = MaxPooling2D(pool_size=(2, 2))(x)\n",
    "x = Conv2D(256, kernel_size=3,activation='relu',padding=\"same\")(x)\n",
    "\n",
    "\n",
    "x = MaxPooling2D(pool_size=(2, 2))(x)\n",
    "\n",
    "\n",
    "x = Flatten()(x)\n",
    "x = Dense(100)(x)\n",
    "\n",
    "x = Activation('relu')(x)\n",
    "\n",
    "x = Dropout(0.6)(x)\n",
    "\n",
    "\n",
    "output = Dense(7, activation='softmax')(x)\n",
    "model = Model(inputs=visible, outputs=output)\n",
    "# summarize layers\n",
    "print(model.summary())"
   ]
  },
  {
   "cell_type": "code",
   "execution_count": 22,
   "metadata": {
    "colab": {
     "autoexec": {
      "startup": false,
      "wait_interval": 0
     },
     "base_uri": "https://localhost:8080/",
     "height": 547,
     "output_extras": [
      {
       "item_id": 59
      },
      {
       "item_id": 98
      },
      {
       "item_id": 124
      }
     ]
    },
    "colab_type": "code",
    "executionInfo": {
     "elapsed": 275487,
     "status": "ok",
     "timestamp": 1523030078730,
     "user": {
      "displayName": "deep learning",
      "photoUrl": "https://lh3.googleusercontent.com/a/default-user=s128",
      "userId": "113755938571436510854"
     },
     "user_tz": -330
    },
    "id": "5aj7IETamA6b",
    "outputId": "ed1d7c1a-8241-4778-fafc-5fbabe28012d"
   },
   "outputs": [
    {
     "name": "stdout",
     "output_type": "stream",
     "text": [
      "Epoch 1/15\n",
      "32/32 [==============================] - 14s 445ms/step - loss: 3.2141 - acc: 0.2204 - val_loss: 1.5170 - val_acc: 0.6614\n",
      "Epoch 2/15\n",
      "32/32 [==============================] - 12s 386ms/step - loss: 1.2266 - acc: 0.5750 - val_loss: 0.3188 - val_acc: 0.9248\n",
      "Epoch 3/15\n",
      "32/32 [==============================] - 12s 390ms/step - loss: 0.7840 - acc: 0.7125 - val_loss: 0.2155 - val_acc: 0.9583\n",
      "Epoch 4/15\n",
      "32/32 [==============================] - 12s 389ms/step - loss: 0.5367 - acc: 0.8170 - val_loss: 0.1965 - val_acc: 0.9391\n",
      "Epoch 5/15\n",
      "32/32 [==============================] - 84s 3s/step - loss: 0.4923 - acc: 0.8382 - val_loss: 0.0952 - val_acc: 0.9808\n",
      "Epoch 6/15\n",
      "32/32 [==============================] - 23s 717ms/step - loss: 0.3508 - acc: 0.8761 - val_loss: 0.0574 - val_acc: 0.9850\n",
      "Epoch 7/15\n",
      "21/32 [==================>...........] - ETA: 1s - loss: 0.3601 - acc: 0.893032/32 [==============================] - 14s 445ms/step - loss: 0.3513 - acc: 0.8956 - val_loss: 0.0780 - val_acc: 0.9754\n",
      "Epoch 8/15\n",
      "32/32 [==============================] - 12s 385ms/step - loss: 0.3921 - acc: 0.8664 - val_loss: 0.0578 - val_acc: 0.9829\n",
      "Epoch 9/15\n",
      "32/32 [==============================] - 13s 406ms/step - loss: 0.2417 - acc: 0.9140 - val_loss: 0.0436 - val_acc: 0.9884\n",
      "Epoch 10/15\n",
      "32/32 [==============================] - 12s 389ms/step - loss: 0.1962 - acc: 0.9257 - val_loss: 0.0461 - val_acc: 0.9863\n",
      "Epoch 11/15\n",
      "32/32 [==============================] - 13s 392ms/step - loss: 0.1966 - acc: 0.9348 - val_loss: 0.0615 - val_acc: 0.9808\n",
      "Epoch 12/15\n",
      "32/32 [==============================] - 12s 387ms/step - loss: 0.1826 - acc: 0.9387 - val_loss: 0.0614 - val_acc: 0.9781\n",
      "Epoch 13/15\n",
      "25/32 [======================>.......] - ETA: 0s - loss: 0.1858 - acc: 0.925332/32 [==============================] - 12s 385ms/step - loss: 0.1891 - acc: 0.9280 - val_loss: 0.0436 - val_acc: 0.9891\n",
      "Epoch 14/15\n",
      "32/32 [==============================] - 13s 403ms/step - loss: 0.1838 - acc: 0.9414 - val_loss: 0.0497 - val_acc: 0.9877\n",
      "Epoch 15/15\n",
      "32/32 [==============================] - 12s 388ms/step - loss: 0.1677 - acc: 0.9384 - val_loss: 0.0541 - val_acc: 0.9863\n"
     ]
    }
   ],
   "source": [
    "\n",
    "model.compile(optimizer='adam',metrics=['accuracy'],loss='categorical_crossentropy')\n",
    "\n",
    "\n",
    "\n",
    "loss_acc = model.fit_generator(generator=train_datagen,validation_data=test_datagen,epochs=15)"
   ]
  },
  {
   "cell_type": "code",
   "execution_count": 23,
   "metadata": {
    "colab": {
     "autoexec": {
      "startup": false,
      "wait_interval": 0
     },
     "base_uri": "https://localhost:8080/",
     "height": 34,
     "output_extras": [
      {
       "item_id": 1
      }
     ]
    },
    "colab_type": "code",
    "executionInfo": {
     "elapsed": 4363,
     "status": "ok",
     "timestamp": 1523030087459,
     "user": {
      "displayName": "deep learning",
      "photoUrl": "https://lh3.googleusercontent.com/a/default-user=s128",
      "userId": "113755938571436510854"
     },
     "user_tz": -330
    },
    "id": "9vuOfnmYmFNy",
    "outputId": "704a3a07-7b25-438f-a7e4-d628aea6da9a"
   },
   "outputs": [
    {
     "name": "stdout",
     "output_type": "stream",
     "text": [
      "Saved model to disk\n"
     ]
    }
   ],
   "source": [
    "model_json = model.to_json()\n",
    "with open(\"/content/drive/DL/CNN_faces.json\", \"w\") as json_file:\n",
    "    json_file.write(model_json)\n",
    "# serialize weights to HDF5\n",
    "model.save_weights(\"/content/drive/DL/CNN_faces.h5\")\n",
    "print(\"Saved model to disk\")"
   ]
  },
  {
   "cell_type": "code",
   "execution_count": 0,
   "metadata": {
    "colab": {
     "autoexec": {
      "startup": false,
      "wait_interval": 0
     },
     "base_uri": "https://localhost:8080/",
     "height": 68,
     "output_extras": [
      {}
     ]
    },
    "colab_type": "code",
    "executionInfo": {
     "elapsed": 1310150,
     "status": "ok",
     "timestamp": 1522778365538,
     "user": {
      "displayName": "deep learning",
      "photoUrl": "https://lh3.googleusercontent.com/a/default-user=s128",
      "userId": "113755938571436510854"
     },
     "user_tz": -330
    },
    "id": "3g1G3v-imLYW",
    "outputId": "ac6c480f-bd99-4f85-e885-7850469e8d1b"
   },
   "outputs": [
    {
     "name": "stdout",
     "output_type": "stream",
     "text": [
      "Loaded model from disk\n",
      "Loss = 0.061979389116433165\n",
      "Test Accuracy = 0.9804270462633452\n"
     ]
    }
   ],
   "source": [
    "json_file = open('/content/drive/DL/mini/CNN_.json', 'r')\n",
    "loaded_model_json = json_file.read()\n",
    "json_file.close()\n",
    "loaded_model = model_from_json(loaded_model_json)\n",
    "# load weights into new model\n",
    "loaded_model.load_weights(\"/content/drive/DL/mini/CNN_.h5\")\n",
    "print(\"Loaded model from disk\")\n",
    "\n",
    "\n",
    "loaded_model.compile(optimizer='adam',metrics=['accuracy'],loss='categorical_crossentropy')\n",
    "preds = loaded_model.evaluate_generator(test_datagen)\n",
    "print (\"Loss = \" + str(preds[0]))\n",
    "print (\"Test Accuracy = \" + str(preds[1]))"
   ]
  },
  {
   "cell_type": "code",
   "execution_count": 24,
   "metadata": {
    "colab": {
     "autoexec": {
      "startup": false,
      "wait_interval": 0
     },
     "base_uri": "https://localhost:8080/",
     "height": 393,
     "output_extras": [
      {
       "item_id": 1
      },
      {
       "item_id": 2
      }
     ]
    },
    "colab_type": "code",
    "executionInfo": {
     "elapsed": 1463,
     "status": "ok",
     "timestamp": 1523030099076,
     "user": {
      "displayName": "deep learning",
      "photoUrl": "https://lh3.googleusercontent.com/a/default-user=s128",
      "userId": "113755938571436510854"
     },
     "user_tz": -330
    },
    "id": "uIgHi2kjk1ax",
    "outputId": "fe6a8a4c-b786-42ff-84b0-aae965bebbc4"
   },
   "outputs": [
    {
     "data": {
      "text/plain": [
       "<matplotlib.legend.Legend at 0x7f5d5b2b4198>"
      ]
     },
     "execution_count": 24,
     "metadata": {
      "tags": []
     },
     "output_type": "execute_result"
    },
    {
     "data": {
      "image/png": "[encoded data removed]",
      "text/plain": [
       "<matplotlib.figure.Figure at 0x7f5d5b1f8828>"
      ]
     },
     "metadata": {
      "tags": []
     },
     "output_type": "display_data"
    }
   ],
   "source": [
    "#summarize history for accuracy\n",
    "plt.plot(loss_acc.history['acc'])\n",
    "plt.plot(loss_acc.history['val_acc'])\n",
    "plt.title('model accuracy')\n",
    "plt.ylabel('accuracy')\n",
    "plt.xlabel('epoch')\n",
    "plt.legend(['train', 'validation'], loc='upper left')"
   ]
  },
  {
   "cell_type": "code",
   "execution_count": 25,
   "metadata": {
    "colab": {
     "autoexec": {
      "startup": false,
      "wait_interval": 0
     },
     "base_uri": "https://localhost:8080/",
     "height": 393,
     "output_extras": [
      {
       "item_id": 1
      },
      {
       "item_id": 2
      }
     ]
    },
    "colab_type": "code",
    "executionInfo": {
     "elapsed": 1491,
     "status": "ok",
     "timestamp": 1523030103319,
     "user": {
      "displayName": "deep learning",
      "photoUrl": "https://lh3.googleusercontent.com/a/default-user=s128",
      "userId": "113755938571436510854"
     },
     "user_tz": -330
    },
    "id": "QWKVBioXp62R",
    "outputId": "b15df11e-c85c-4b57-ffbe-caaffd19a376"
   },
   "outputs": [
    {
     "data": {
      "text/plain": [
       "<function matplotlib.pyplot.show>"
      ]
     },
     "execution_count": 25,
     "metadata": {
      "tags": []
     },
     "output_type": "execute_result"
    },
    {
     "data": {
      "image/png": "[encoded data removed]",
      "text/plain": [
       "<matplotlib.figure.Figure at 0x7f5d5b1f8550>"
      ]
     },
     "metadata": {
      "tags": []
     },
     "output_type": "display_data"
    }
   ],
   "source": [
    "plt.plot(loss_acc.history['loss'])\n",
    "plt.plot(loss_acc.history['val_loss'])\n",
    "plt.title('model loss')\n",
    "plt.ylabel('loss')\n",
    "plt.xlabel('epoch')\n",
    "plt.legend(['train', 'validation'], loc='upper left')\n",
    "plt.show"
   ]
  }
 ],
 "metadata": {
  "accelerator": "GPU",
  "colab": {
   "collapsed_sections": [],
   "default_view": {},
   "name": "CNN.ipynb",
   "provenance": [],
   "version": "0.3.2",
   "views": {}
  },
  "kernelspec": {
   "display_name": "Python 3",
   "language": "python",
   "name": "python3"
  },
  "language_info": {
   "codemirror_mode": {
    "name": "ipython",
    "version": 3
   },
   "file_extension": ".py",
   "mimetype": "text/x-python",
   "name": "python",
   "nbconvert_exporter": "python",
   "pygments_lexer": "ipython3",
   "version": "3.5.2"
  }
 },
 "nbformat": 4,
 "nbformat_minor": 1
}
